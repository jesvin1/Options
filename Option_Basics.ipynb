{
  "nbformat": 4,
  "nbformat_minor": 0,
  "metadata": {
    "colab": {
      "name": "Option Basics.ipynb",
      "provenance": [],
      "authorship_tag": "ABX9TyM/l6JAJt+ljUdB5gu2fILl",
      "include_colab_link": true
    },
    "kernelspec": {
      "name": "python3",
      "display_name": "Python 3"
    }
  },
  "cells": [
    {
      "cell_type": "markdown",
      "metadata": {
        "id": "view-in-github",
        "colab_type": "text"
      },
      "source": [
        "<a href=\"https://colab.research.google.com/github/jesvin1/Options/blob/master/Option_Basics.ipynb\" target=\"_parent\"><img src=\"https://colab.research.google.com/assets/colab-badge.svg\" alt=\"Open In Colab\"/></a>"
      ]
    },
    {
      "cell_type": "markdown",
      "metadata": {
        "id": "H4w_gNMNy8P2",
        "colab_type": "text"
      },
      "source": [
        "People or institutions selling options are called option\n",
        "writers. Those buying options are called option holders.\n",
        "\n",
        "For a European call option on an index with strike 8,000 and index level of 8,200\n",
        "at maturity, the option holder receives the difference 8,200 − 8,000 = 200 (e.g. in EUR or\n",
        "USD) from the option writer. If the index level is below the strike, say at 7,800, the option\n",
        "expires worthless and the writer does not have to pay anything. We can formalize this via\n",
        "the so-called inner value (or intrinsic value or payoff)—from the holder’s viewpoint—of\n",
        "the option\n",
        "\n",
        "hT(S, K) = max[ST− K, 0]\n",
        "\n",
        "where T is the maturity date of the option, \n",
        "      ST the index level at this date and K represents the\n",
        "strike price. \n",
        "\n",
        "We can now use Python for the first time and plot this inner value function.\n"
      ]
    },
    {
      "cell_type": "code",
      "metadata": {
        "id": "6hbr0Ei9zBah",
        "colab_type": "code",
        "outputId": "a94d72d3-8524-4fed-8ea4-751bc5fc85e7",
        "colab": {
          "base_uri": "https://localhost:8080/",
          "height": 282
        }
      },
      "source": [
        "#\n",
        "# European Call Option Inner Value Plot\n",
        "# 02_MBV/inner_value_plot.py\n",
        "#\n",
        "# (c) Dr. Yves J. Hilpisch\n",
        "# Derivatives Analytics with Python\n",
        "#\n",
        "import numpy as np\n",
        "import matplotlib as mpl\n",
        "import matplotlib.pyplot as plt\n",
        "mpl.rcParams['font.family'] = 'serif'\n",
        "\n",
        "# Option Strike\n",
        "K = 8000\n",
        "# Graphical Output\n",
        "S = np.linspace(7000, 9000, 100)# index level values\n",
        "h = np.maximum(S - K, 0)# inner values of call option\n",
        "plt.figure()\n",
        "plt.plot(S, h, lw=2.5)# plot inner values at maturity\n",
        "plt.xlabel('index level $S_t$ at maturity')\n",
        "plt.ylabel('inner value of European call option')\n",
        "plt.grid(True)\n"
      ],
      "execution_count": 0,
      "outputs": [
        {
          "output_type": "display_data",
          "data": {
            "image/png": "[encoded data removed]",
            "text/plain": [
              "<Figure size 432x288 with 1 Axes>"
            ]
          },
          "metadata": {
            "tags": []
          }
        }
      ]
    },
    {
      "cell_type": "markdown",
      "metadata": {
        "id": "eLxTFdFJzuf_",
        "colab_type": "text"
      },
      "source": [
        "Three scenarios have to be distinguished with regard to the so-called moneyness of an\n",
        "option:\n",
        "\n",
        "in-the-money (ITM): a call (put) is in-the-money if S > K (S < K)\n",
        "\n",
        "at-the-money (ATM): an option, call or put, is at-the-money if S ≈ K\n",
        "\n",
        "out-of-the-money (OTM): a call (put) is out-of-the-money if S < K (S > K)\n",
        "\n",
        "Factors affecting Option\n",
        "\n",
        "1. initial index level\n",
        "2. volatility of the index\n",
        "3. time-to-maturity\n",
        "4. interest rate\n",
        "\n",
        "These above insights are formalized in the seminal work of Black-Scholes-Merton (cf.\n",
        "Black and Scholes (1973) and Merton (1973)) who for the first time derived a closed option\n",
        "pricing formula for a parsimonious set of input parameters. Their formula says mainly the\n",
        "following\n",
        "\n",
        "C∗\n",
        " = CBSM(S0, K, T, r, 𝜎)\n",
        "\n",
        "1. S0the current index level\n",
        "2. K the strike price of the option\n",
        "3. T the maturity date (equals time-to-maturity viewed from the present date)\n",
        "4. r the constant risk-less short rate\n",
        "5. 𝜎 the volatility of the index, i.e. the standard deviation of the index level returns\n",
        "\n",
        "So we can say option’s present value is composed of the inner value plus the time value\n",
        "\n",
        "\n",
        "\n",
        "\n",
        "\n"
      ]
    },
    {
      "cell_type": "code",
      "metadata": {
        "id": "PpdzNse62Y8z",
        "colab_type": "code",
        "outputId": "68ed00d9-3e38-4cc5-e071-3df94b8667dc",
        "colab": {
          "base_uri": "https://localhost:8080/",
          "height": 35
        }
      },
      "source": [
        "#!git clone https://github.com/yhilpisch/dawp.git\n",
        "#%cd dawp\n",
        "#conda env create -f dawp_conda.yml\n",
        "#!source activate dawp\n",
        "#%cd python36\n"
      ],
      "execution_count": 0,
      "outputs": [
        {
          "output_type": "stream",
          "text": [
            "/bin/bash: conda: command not found\n"
          ],
          "name": "stdout"
        }
      ]
    },
    {
      "cell_type": "code",
      "metadata": {
        "id": "LpHliBlH50s9",
        "colab_type": "code",
        "outputId": "3e0c095d-d2f5-4ec0-d952-4d65c165c8d6",
        "colab": {
          "base_uri": "https://localhost:8080/",
          "height": 53
        }
      },
      "source": [
        "#%cd ..\n",
        "!pwd\n",
        "!ls"
      ],
      "execution_count": 1,
      "outputs": [
        {
          "output_type": "stream",
          "text": [
            "/content\n",
            "sample_data\n"
          ],
          "name": "stdout"
        }
      ]
    },
    {
      "cell_type": "code",
      "metadata": {
        "id": "RIiBldEjGih_",
        "colab_type": "code",
        "colab": {
          "base_uri": "https://localhost:8080/",
          "height": 90
        },
        "outputId": "b3f547b6-6468-4591-aa13-ffbab6191c6e"
      },
      "source": [
        "!pip install git+https://github.com/yhilpisch/dawp.git"
      ],
      "execution_count": 2,
      "outputs": [
        {
          "output_type": "stream",
          "text": [
            "Collecting git+https://github.com/yhilpisch/dawp.git\n",
            "  Cloning https://github.com/yhilpisch/dawp.git to /tmp/pip-req-build-r8wxmc0q\n",
            "  Running command git clone -q https://github.com/yhilpisch/dawp.git /tmp/pip-req-build-r8wxmc0q\n",
            "\u001b[31mERROR: Command errored out with exit status 1: python setup.py egg_info Check the logs for full command output.\u001b[0m\n"
          ],
          "name": "stdout"
        }
      ]
    },
    {
      "cell_type": "code",
      "metadata": {
        "id": "tY73LIrIHG-Y",
        "colab_type": "code",
        "colab": {}
      },
      "source": [
        "#\n",
        "# Black-Scholes-Merton (1973) European Call & Put Valuation\n",
        "# 05_com/BSM_option_valuation.py\n",
        "#\n",
        "# (c) Dr. Yves J. Hilpisch\n",
        "# Derivatives Analytics with Python\n",
        "#\n",
        "import math\n",
        "import numpy as np\n",
        "import matplotlib as mpl\n",
        "import matplotlib.pyplot as plt\n",
        "from scipy.integrate import quad\n",
        "mpl.rcParams['font.family'] = 'serif'\n",
        "\n",
        "#\n",
        "# Helper Functions\n",
        "#\n",
        "\n",
        "\n",
        "def dN(x):\n",
        "    ''' Probability density function of standard normal random variable x. '''\n",
        "    return math.exp(-0.5 * x ** 2) / math.sqrt(2 * math.pi)\n",
        "\n",
        "\n",
        "def N(d):\n",
        "    ''' Cumulative density function of standard normal random variable x. '''\n",
        "    return quad(lambda x: dN(x), -20, d, limit=50)[0]\n",
        "\n",
        "\n",
        "def d1f(St, K, t, T, r, sigma):\n",
        "    ''' Black-Scholes-Merton d1 function.\n",
        "        Parameters see e.g. BSM_call_value function. '''\n",
        "    d1 = (math.log(St / K) + (r + 0.5 * sigma ** 2)\n",
        "          * (T - t)) / (sigma * math.sqrt(T - t))\n",
        "    return d1\n",
        "\n",
        "#\n",
        "# Valuation Functions\n",
        "#\n",
        "\n",
        "\n",
        "def BSM_call_value(St, K, t, T, r, sigma):\n",
        "    ''' Calculates Black-Scholes-Merton European call option value.\n",
        "    Parameters\n",
        "    ==========\n",
        "    St : float\n",
        "        stock/index level at time t\n",
        "    K : float\n",
        "        strike price\n",
        "    t : float\n",
        "        valuation date\n",
        "    T : float\n",
        "        date of maturity/time-to-maturity if t = 0; T > t\n",
        "    r : float\n",
        "        constant, risk-less short rate\n",
        "    sigma : float\n",
        "        volatility\n",
        "    Returns\n",
        "    =======\n",
        "    call_value : float\n",
        "        European call present value at t\n",
        "    '''\n",
        "    d1 = d1f(St, K, t, T, r, sigma)\n",
        "    d2 = d1 - sigma * math.sqrt(T - t)\n",
        "    call_value = St * N(d1) - math.exp(-r * (T - t)) * K * N(d2)\n",
        "    return call_value\n",
        "\n",
        "\n",
        "def BSM_put_value(St, K, t, T, r, sigma):\n",
        "    ''' Calculates Black-Scholes-Merton European put option value.\n",
        "    Parameters\n",
        "    ==========\n",
        "    St : float\n",
        "        stock/index level at time t\n",
        "    K : float\n",
        "        strike price\n",
        "    t : float\n",
        "        valuation date\n",
        "    T : float\n",
        "        date of maturity/time-to-maturity if t = 0; T > t\n",
        "    r : float\n",
        "        constant, risk-less short rate\n",
        "    sigma : float\n",
        "        volatility\n",
        "    Returns\n",
        "    =======\n",
        "    put_value : float\n",
        "        European put present value at t\n",
        "    '''\n",
        "    put_value = BSM_call_value(St, K, t, T, r, sigma) \\\n",
        "        - St + math.exp(-r * (T - t)) * K\n",
        "    return put_value\n",
        "\n",
        "\n",
        "#\n",
        "# Plotting European Option Values\n",
        "#\n",
        "\n",
        "\n",
        "def plot_values(function):\n",
        "    ''' Plots European option values for different parameters c.p. '''\n",
        "    plt.figure(figsize=(10, 8.3))\n",
        "    points = 100\n",
        "    #\n",
        "    # Model Parameters\n",
        "    #\n",
        "    St = 100.0  # index level\n",
        "    K = 100.0  # option strike\n",
        "    t = 0.0  # valuation date\n",
        "    T = 1.0  # maturity date\n",
        "    r = 0.05  # risk-less short rate\n",
        "    sigma = 0.2  # volatility\n",
        "\n",
        "    # C(K) plot\n",
        "    plt.subplot(221)\n",
        "    klist = np.linspace(80, 120, points)\n",
        "    vlist = [function(St, K, t, T, r, sigma) for K in klist]\n",
        "    plt.plot(klist, vlist)\n",
        "    plt.grid()\n",
        "    plt.xlabel('strike $K$')\n",
        "    plt.ylabel('present value')\n",
        "\n",
        "    # C(T) plot\n",
        "    plt.subplot(222)\n",
        "    tlist = np.linspace(0.0001, 1, points)\n",
        "    vlist = [function(St, K, t, T, r, sigma) for T in tlist]\n",
        "    plt.plot(tlist, vlist)\n",
        "    plt.grid(True)\n",
        "    plt.xlabel('maturity $T$')\n",
        "\n",
        "    # C(r) plot\n",
        "    plt.subplot(223)\n",
        "    rlist = np.linspace(0, 0.1, points)\n",
        "    vlist = [function(St, K, t, T, r, sigma) for r in rlist]\n",
        "    plt.plot(tlist, vlist)\n",
        "    plt.grid(True)\n",
        "    plt.xlabel('short rate $r$')\n",
        "    plt.ylabel('present value')\n",
        "    plt.axis('tight')\n",
        "\n",
        "    # C(sigma) plot\n",
        "    plt.subplot(224)\n",
        "    slist = np.linspace(0.01, 0.5, points)\n",
        "    vlist = [function(St, K, t, T, r, sigma) for sigma in slist]\n",
        "    plt.plot(slist, vlist)\n",
        "    plt.grid(True)\n",
        "    plt.xlabel('volatility $\\sigma$')\n",
        "    plt.tight_layout()"
      ],
      "execution_count": 0,
      "outputs": []
    },
    {
      "cell_type": "code",
      "metadata": {
        "id": "PiQto7xg0DDl",
        "colab_type": "code",
        "outputId": "322eaf5b-a2eb-4c41-91e6-7856f9b88817",
        "colab": {
          "base_uri": "https://localhost:8080/",
          "height": 300
        }
      },
      "source": [
        "#\n",
        "# European Call Option Value Plot\n",
        "# 02_mbv/BSM_value_plot.py\n",
        "#\n",
        "# (c) Dr. Yves J. Hilpisch\n",
        "# Derivatives Analytics with Python\n",
        "#\n",
        "import numpy as np\n",
        "import matplotlib as mpl\n",
        "import matplotlib.pyplot as plt\n",
        "mpl.rcParams['font.family'] = 'serif'\n",
        "# Import Valuation Function from Chapter 5\n",
        "import sys\n",
        "sys.path.append('05_com')\n",
        "#from BSM_option_valuation import BSM_call_value\n",
        "# Model and Option Parameters\n",
        "K = 8000# strike price\n",
        "T = 1.0# time-to-maturity\n",
        "r = 0.025# constant, risk-less short rate\n",
        "vol = 0.2# constant volatility\n",
        "# Sample Data Generation\n",
        "S = np.linspace(4000, 12000, 150)# vector of index level values\n",
        "h = np.maximum(S - K, 0)# inner value of option\n",
        "C = [BSM_call_value(S0, K, 0, T, r, vol) for S0 in S]\n",
        "# calculate call option values\n",
        "# Graphical Output\n",
        "plt.figure()\n",
        "plt.plot(S, h, 'b-.', lw=2.5, label='inner value')\n",
        "# plot inner value at maturity\n",
        "plt.plot(S, C, 'r', lw=2.5, label='present value')\n",
        "# plot option present value\n",
        "plt.grid(True)\n",
        "plt.legend(loc=0)\n",
        "plt.xlabel('index level $S_0$')\n",
        "plt.ylabel('present value $C(t=0)$')\n"
      ],
      "execution_count": 4,
      "outputs": [
        {
          "output_type": "execute_result",
          "data": {
            "text/plain": [
              "Text(0, 0.5, 'present value $C(t=0)$')"
            ]
          },
          "metadata": {
            "tags": []
          },
          "execution_count": 4
        },
        {
          "output_type": "display_data",
          "data": {
            "image/png": "[encoded data removed]",
            "text/plain": [
              "<Figure size 432x288 with 1 Axes>"
            ]
          },
          "metadata": {
            "tags": []
          }
        }
      ]
    },
    {
      "cell_type": "markdown",
      "metadata": {
        "id": "5YzlVxMvHlSk",
        "colab_type": "text"
      },
      "source": [
        "VANILLA VS. EXOTIC INSTRUMENTS\n",
        "\n",
        " plain vanilla or flow equity derivatives, like European\n",
        "call options written on an equity index\n",
        "\n",
        " exotic equity derivatives, like options on an equity\n",
        "index with Asian features, barriers and/or American exercise.\n",
        "\n",
        " exist liquid\n",
        "markets for plain vanilla products but not for exotic ones\n",
        "\n",
        "\n"
      ]
    }
  ]
}