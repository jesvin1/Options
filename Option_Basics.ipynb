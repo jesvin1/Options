{
  "nbformat": 4,
  "nbformat_minor": 0,
  "metadata": {
    "colab": {
      "name": "Option Basics.ipynb",
      "provenance": [],
      "authorship_tag": "ABX9TyNsSEKZsNV+Tj06jbMngWE5",
      "include_colab_link": true
    },
    "kernelspec": {
      "name": "python3",
      "display_name": "Python 3"
    }
  },
  "cells": [
    {
      "cell_type": "markdown",
      "metadata": {
        "id": "view-in-github",
        "colab_type": "text"
      },
      "source": [
        "<a href=\"https://colab.research.google.com/github/jesvin1/Options/blob/master/Option_Basics.ipynb\" target=\"_parent\"><img src=\"https://colab.research.google.com/assets/colab-badge.svg\" alt=\"Open In Colab\"/></a>"
      ]
    },
    {
      "cell_type": "markdown",
      "metadata": {
        "id": "H4w_gNMNy8P2",
        "colab_type": "text"
      },
      "source": [
        "People or institutions selling options are called option\n",
        "writers. Those buying options are called option holders.\n",
        "\n",
        "For a European call option on an index with strike 8,000 and index level of 8,200\n",
        "at maturity, the option holder receives the difference 8,200 − 8,000 = 200 (e.g. in EUR or\n",
        "USD) from the option writer. If the index level is below the strike, say at 7,800, the option\n",
        "expires worthless and the writer does not have to pay anything. We can formalize this via\n",
        "the so-called inner value (or intrinsic value or payoff)—from the holder’s viewpoint—of\n",
        "the option\n",
        "\n",
        "hT(S, K) = max[ST− K, 0]\n",
        "\n",
        "where T is the maturity date of the option, \n",
        "      ST the index level at this date and K represents the\n",
        "strike price. \n",
        "\n",
        "We can now use Python for the first time and plot this inner value function.\n"
      ]
    },
    {
      "cell_type": "code",
      "metadata": {
        "id": "6hbr0Ei9zBah",
        "colab_type": "code",
        "colab": {
          "base_uri": "https://localhost:8080/",
          "height": 282
        },
        "outputId": "a94d72d3-8524-4fed-8ea4-751bc5fc85e7"
      },
      "source": [
        "#\n",
        "# European Call Option Inner Value Plot\n",
        "# 02_MBV/inner_value_plot.py\n",
        "#\n",
        "# (c) Dr. Yves J. Hilpisch\n",
        "# Derivatives Analytics with Python\n",
        "#\n",
        "import numpy as np\n",
        "import matplotlib as mpl\n",
        "import matplotlib.pyplot as plt\n",
        "mpl.rcParams['font.family'] = 'serif'\n",
        "\n",
        "# Option Strike\n",
        "K = 8000\n",
        "# Graphical Output\n",
        "S = np.linspace(7000, 9000, 100)# index level values\n",
        "h = np.maximum(S - K, 0)# inner values of call option\n",
        "plt.figure()\n",
        "plt.plot(S, h, lw=2.5)# plot inner values at maturity\n",
        "plt.xlabel('index level $S_t$ at maturity')\n",
        "plt.ylabel('inner value of European call option')\n",
        "plt.grid(True)\n"
      ],
      "execution_count": 1,
      "outputs": [
        {
          "output_type": "display_data",
          "data": {
            "image/png": "[encoded data removed]",
            "text/plain": [
              "<Figure size 432x288 with 1 Axes>"
            ]
          },
          "metadata": {
            "tags": []
          }
        }
      ]
    },
    {
      "cell_type": "markdown",
      "metadata": {
        "id": "eLxTFdFJzuf_",
        "colab_type": "text"
      },
      "source": [
        "Three scenarios have to be distinguished with regard to the so-called moneyness of an\n",
        "option:\n",
        "\n",
        "in-the-money (ITM): a call (put) is in-the-money if S > K (S < K)\n",
        "\n",
        "at-the-money (ATM): an option, call or put, is at-the-money if S ≈ K\n",
        "\n",
        "out-of-the-money (OTM): a call (put) is out-of-the-money if S < K (S > K)\n",
        "\n",
        "Factors affecting Option\n",
        "\n",
        "1. initial index level\n",
        "2. volatility of the index\n",
        "3. time-to-maturity\n",
        "4. interest rate\n",
        "\n",
        "These above insights are formalized in the seminal work of Black-Scholes-Merton (cf.\n",
        "Black and Scholes (1973) and Merton (1973)) who for the first time derived a closed option\n",
        "pricing formula for a parsimonious set of input parameters. Their formula says mainly the\n",
        "following\n",
        "\n",
        "C∗\n",
        " = CBSM(S0, K, T, r, 𝜎)\n",
        "\n",
        "1. S0the current index level\n",
        "2. K the strike price of the option\n",
        "3. T the maturity date (equals time-to-maturity viewed from the present date)\n",
        "4. r the constant risk-less short rate\n",
        "5. 𝜎 the volatility of the index, i.e. the standard deviation of the index level returns\n",
        "\n",
        "So we can say option’s present value is composed of the inner value plus the time value\n",
        "\n",
        "\n",
        "\n",
        "\n",
        "\n"
      ]
    },
    {
      "cell_type": "code",
      "metadata": {
        "id": "PpdzNse62Y8z",
        "colab_type": "code",
        "colab": {
          "base_uri": "https://localhost:8080/",
          "height": 35
        },
        "outputId": "68ed00d9-3e38-4cc5-e071-3df94b8667dc"
      },
      "source": [
        "#!git clone https://github.com/yhilpisch/dawp.git\n",
        "#%cd dawp\n",
        "!conda env create -f dawp_conda.yml\n",
        "#!source activate dawp\n",
        "#%cd python36\n"
      ],
      "execution_count": 17,
      "outputs": [
        {
          "output_type": "stream",
          "text": [
            "/bin/bash: conda: command not found\n"
          ],
          "name": "stdout"
        }
      ]
    },
    {
      "cell_type": "code",
      "metadata": {
        "id": "LpHliBlH50s9",
        "colab_type": "code",
        "colab": {
          "base_uri": "https://localhost:8080/",
          "height": 53
        },
        "outputId": "797952f8-3bbc-46b5-bb7d-72a771076fd4"
      },
      "source": [
        "%cd ..\n",
        "#!pwd\n",
        "!ls"
      ],
      "execution_count": 15,
      "outputs": [
        {
          "output_type": "stream",
          "text": [
            "/content/dawp\n",
            "dawp_conda.yml\timages\tpython27  python36  README.md\n"
          ],
          "name": "stdout"
        }
      ]
    },
    {
      "cell_type": "code",
      "metadata": {
        "id": "PiQto7xg0DDl",
        "colab_type": "code",
        "colab": {
          "base_uri": "https://localhost:8080/",
          "height": 389
        },
        "outputId": "c4b16ccc-d6f6-460a-9c30-3d5149101498"
      },
      "source": [
        "#\n",
        "# European Call Option Value Plot\n",
        "# 02_mbv/BSM_value_plot.py\n",
        "#\n",
        "# (c) Dr. Yves J. Hilpisch\n",
        "# Derivatives Analytics with Python\n",
        "#\n",
        "import numpy as np\n",
        "import matplotlib as mpl\n",
        "import matplotlib.pyplot as plt\n",
        "mpl.rcParams['font.family'] = 'serif'\n",
        "# Import Valuation Function from Chapter 5\n",
        "import sys\n",
        "sys.path.append('05_com')\n",
        "from BSM_option_valuation import BSM_call_value\n",
        "# Model and Option Parameters\n",
        "K = 8000# strike price\n",
        "T = 1.0# time-to-maturity\n",
        "r = 0.025# constant, risk-less short rate\n",
        "vol = 0.2# constant volatility\n",
        "# Sample Data Generation\n",
        "S = np.linspace(4000, 12000, 150)# vector of index level values\n",
        "h = np.maximum(S - K, 0)# inner value of option\n",
        "C = [BSM_call_value(S0, K, 0, T, r, vol) for S0 in S]\n",
        "# calculate call option values\n",
        "# Graphical Output\n",
        "plt.figure()\n",
        "plt.plot(S, h, 'b-.', lw=2.5, label='inner value')\n",
        "# plot inner value at maturity\n",
        "plt.plot(S, C, 'r', lw=2.5, label='present value')\n",
        "# plot option present value\n",
        "plt.grid(True)\n",
        "plt.legend(loc=0)\n",
        "plt.xlabel('index level $S_0$')\n",
        "plt.ylabel('present value $C(t=0)$')\n"
      ],
      "execution_count": 2,
      "outputs": [
        {
          "output_type": "error",
          "ename": "ModuleNotFoundError",
          "evalue": "ignored",
          "traceback": [
            "\u001b[0;31m---------------------------------------------------------------------------\u001b[0m",
            "\u001b[0;31mModuleNotFoundError\u001b[0m                       Traceback (most recent call last)",
            "\u001b[0;32m<ipython-input-2-6ceb715ca329>\u001b[0m in \u001b[0;36m<module>\u001b[0;34m()\u001b[0m\n\u001b[1;32m      6\u001b[0m \u001b[0;32mimport\u001b[0m \u001b[0msys\u001b[0m\u001b[0;34m\u001b[0m\u001b[0;34m\u001b[0m\u001b[0m\n\u001b[1;32m      7\u001b[0m \u001b[0msys\u001b[0m\u001b[0;34m.\u001b[0m\u001b[0mpath\u001b[0m\u001b[0;34m.\u001b[0m\u001b[0mappend\u001b[0m\u001b[0;34m(\u001b[0m\u001b[0;34m'05_com'\u001b[0m\u001b[0;34m)\u001b[0m\u001b[0;34m\u001b[0m\u001b[0;34m\u001b[0m\u001b[0m\n\u001b[0;32m----> 8\u001b[0;31m \u001b[0;32mfrom\u001b[0m \u001b[0mBSM_option_valuation\u001b[0m \u001b[0;32mimport\u001b[0m \u001b[0mBSM_call_value\u001b[0m\u001b[0;34m\u001b[0m\u001b[0;34m\u001b[0m\u001b[0m\n\u001b[0m\u001b[1;32m      9\u001b[0m \u001b[0;31m# Model and Option Parameters\u001b[0m\u001b[0;34m\u001b[0m\u001b[0;34m\u001b[0m\u001b[0;34m\u001b[0m\u001b[0m\n\u001b[1;32m     10\u001b[0m \u001b[0mK\u001b[0m \u001b[0;34m=\u001b[0m \u001b[0;36m8000\u001b[0m\u001b[0;31m# strike price\u001b[0m\u001b[0;34m\u001b[0m\u001b[0;34m\u001b[0m\u001b[0m\n",
            "\u001b[0;31mModuleNotFoundError\u001b[0m: No module named 'BSM_option_valuation'",
            "",
            "\u001b[0;31m---------------------------------------------------------------------------\u001b[0;32m\nNOTE: If your import is failing due to a missing package, you can\nmanually install dependencies using either !pip or !apt.\n\nTo view examples of installing some common dependencies, click the\n\"Open Examples\" button below.\n\u001b[0;31m---------------------------------------------------------------------------\u001b[0m\n"
          ]
        }
      ]
    }
  ]
}